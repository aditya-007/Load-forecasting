{
  "nbformat": 4,
  "nbformat_minor": 0,
  "metadata": {
    "colab": {
      "provenance": [],
      "mount_file_id": "13tWG0-dOcpWpYVkiioSdDfEY87q3Y8TI",
      "authorship_tag": "ABX9TyOfoOnaW+7B4SdIyTOzQcDD",
      "include_colab_link": true
    },
    "kernelspec": {
      "name": "python3",
      "display_name": "Python 3"
    },
    "language_info": {
      "name": "python"
    }
  },
  "cells": [
    {
      "cell_type": "markdown",
      "metadata": {
        "id": "view-in-github",
        "colab_type": "text"
      },
      "source": [
        "<a href=\"https://colab.research.google.com/github/aditya-007/Load-forecasting/blob/main/run_model.ipynb\" target=\"_parent\"><img src=\"https://colab.research.google.com/assets/colab-badge.svg\" alt=\"Open In Colab\"/></a>"
      ]
    },
    {
      "cell_type": "code",
      "execution_count": 2,
      "metadata": {
        "id": "TLovACasqpQO"
      },
      "outputs": [],
      "source": [
        "import os\n",
        "import glob\n",
        "import json\n",
        "import numpy as np\n",
        "from math import sqrt\n",
        "from keras.models import model_from_json\n",
        "from sklearn.metrics import mean_absolute_error\n",
        "import argparse\n",
        "from utils import feature_extraction, split_features"
      ]
    },
    {
      "cell_type": "code",
      "source": [
        "def mean_absolute_percentage_error(y_true, y_pred):\n",
        "    y_true, y_pred = np.array(y_true), np.array(y_pred)\n",
        "    return np.mean(np.abs((y_true - y_pred) / y_true)) * 100"
      ],
      "metadata": {
        "id": "_e5IpfuRrANN"
      },
      "execution_count": 3,
      "outputs": []
    },
    {
      "cell_type": "code",
      "source": [
        "def main(settings):\n",
        "    features, minima, maxima, scaling_parameter = feature_extraction(settings.dataset_dir)\n",
        "    window = 5\n",
        "    X_train, y_train, X_test, y_test = split_features(features[::-1], window)\n",
        "    print(\"X_train\", X_train.shape)\n",
        "    print(\"y_train\", y_train.shape)\n",
        "    print(\"X_test\", X_test.shape)\n",
        "    print(\"y_test\", y_test.shape)\n",
        "\n",
        "    # load json and create model\n",
        "    layout_path = glob.glob(os.path.join(settings.model_dir, \"*layout.json\"))[0]\n",
        "    json_file = open(layout_path, 'r')\n",
        "    loaded_model_json = json_file.read()\n",
        "    json_file.close()\n",
        "    model = model_from_json(loaded_model_json)\n",
        "\n",
        "    # load weights into new model\n",
        "    weights_path = glob.glob(os.path.join(settings.model_dir, \"*weights.h5\"))[0]\n",
        "    model.load_weights(weights_path)\n",
        "    print(\"Loaded model from disk\")\n",
        "\n",
        "    predicted2 = model.predict(X_test)\n",
        "    actual = y_test\n",
        "    predicted2 = (predicted2 * scaling_parameter) + minima\n",
        "    actual = (actual * scaling_parameter) + minima\n",
        "\n",
        "    mape2 = sqrt(mean_absolute_percentage_error(predicted2, actual))\n",
        "    mse2 = mean_absolute_error(actual, predicted2)\n",
        "\n",
        "    print(json.dumps({\n",
        "        \"mape\": mape2,\n",
        "        \"mse\": mse2\n",
        "    }))\n"
      ],
      "metadata": {
        "id": "gYK9fQ5SrC4Y"
      },
      "execution_count": 4,
      "outputs": []
    },
    {
      "cell_type": "code",
      "source": [
        "def cli():\n",
        "    parser = argparse.ArgumentParser()\n",
        "    parser.add_argument(\"--dataset_dir\", type=str, default=\"/valohai/inputs/dataset\")\n",
        "    parser.add_argument(\"--model_dir\", type=str, default=\"/valohai/inputs/model\")\n",
        "    settings = parser.parse_args()\n",
        "    main(settings)\n"
      ],
      "metadata": {
        "id": "Jc8hIOttrGIH"
      },
      "execution_count": 5,
      "outputs": []
    },
    {
      "cell_type": "code",
      "source": [
        "if __name__ == \"__main__\":\n",
        "    cli()"
      ],
      "metadata": {
        "id": "GqS4s7dGrH_B"
      },
      "execution_count": null,
      "outputs": []
    }
  ]
}